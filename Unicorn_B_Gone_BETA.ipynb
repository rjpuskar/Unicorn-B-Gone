{
  "cells": [
    {
      "cell_type": "markdown",
      "metadata": {
        "id": "view-in-github",
        "colab_type": "text"
      },
      "source": [
        "<a href=\"https://colab.research.google.com/github/rjpuskar/Unicorn-B-Gone/blob/main/Unicorn_B_Gone_BETA.ipynb\" target=\"_parent\"><img src=\"https://colab.research.google.com/assets/colab-badge.svg\" alt=\"Open In Colab\"/></a>"
      ]
    },
    {
      "cell_type": "markdown",
      "metadata": {
        "id": "RkeLlA9KG56Z"
      },
      "source": [
        "Instructions:\n",
        "\n",
        "1. Export the raw text file from Unicorn\n",
        "2. Open the text file, ctrl+a --> ctrl+c\n",
        "3. Open excel, paste into cell A1\n",
        "4. Save excel doc, note filename\n",
        "5. Run first code box (press play icon in upper left corner), upload file\n",
        "\n",
        "  Note: if this doesn't work, try a different browser"
      ]
    },
    {
      "cell_type": "code",
      "execution_count": null,
      "metadata": {
        "id": "KwuknXVQYUuY"
      },
      "outputs": [],
      "source": [
        "from google.colab import files\n",
        "uploaded = files.upload()"
      ]
    },
    {
      "cell_type": "markdown",
      "metadata": {
        "id": "7FyPPtrbHjmh"
      },
      "source": [
        "6. Change \"filename\" variable to match your filename\n",
        "7. Run second code box (maybe run twice to force things to update)\n",
        "8. If peak detection is desired, run third code box"
      ]
    },
    {
      "cell_type": "code",
      "execution_count": null,
      "metadata": {
        "id": "QvmVid8WWoPP"
      },
      "outputs": [],
      "source": [
        "%reset-f\n",
        "\n",
        "# change the following variable to equal your_filename.xlsx in quotes\n",
        "filename = \"Chrom_Data_Sample.xlsx\"\n",
        "\n",
        "import numpy as np\n",
        "import matplotlib.pyplot as plt\n",
        "import pandas as pd\n",
        "\n",
        "# reads copy/pasted excel file into dataframe\n",
        "rawexcel = pd.read_excel(filename, header = 2)\n",
        "\n",
        "# reads and displays injection point based on placement of \"Injection\" column\n",
        "try:\n",
        "    injcolumn = int(rawexcel.columns.get_loc(\"Injection\"))\n",
        "    injection = rawexcel.iat[0,(injcolumn - 1)]\n",
        "    print(\"injection = \", injection)\n",
        "except:\n",
        "    print(\"Warning: no injection found\")\n",
        "\n",
        "# reads and displays list of fraction/waste start points based on placement of \"Fraction\" column\n",
        "try:\n",
        "  fraccolumn = int(rawexcel.columns.get_loc(\"Fraction\"))\n",
        "  rawexcel.loc[rawexcel.Fraction == \"Waste\", \"Fraction\"] = 0    # sets \"Waste\" values to 0 in \"Fraction\" column\n",
        "  no_waste = rawexcel[rawexcel['Fraction'] > 0]\n",
        "  no_waste_volume = no_waste.iloc[:,(fraccolumn-1)]\n",
        "  fractions = no_waste_volume.to_list()\n",
        "  print(\"fractions:\", fractions)\n",
        "  wastefrac = rawexcel[rawexcel[\"Fraction\"] == 0]\n",
        "  wastefrac_volume = wastefrac.iloc[:, (fraccolumn-1)]\n",
        "  wastefractions = wastefrac_volume.tolist()\n",
        "  print(\"waste:\", wastefractions)\n",
        "except:\n",
        "    print(\"Warning: no fractions found\")\n",
        "\n",
        "## enable to show first 20 rows of rawexcel dataframe (for verification)\n",
        "# rawexcel.head(21)\n",
        "\n",
        "# calls for user-input elements to plot\n",
        "print(\"max volume to display? (do not enter units, ex. 26)\")\n",
        "xrightlim = int(input()) # x axis maximum\n",
        "print(\"minimum absorbance to display? (do not enter units, ex. 0)\")\n",
        "ybottomlim = int(input()) # y axis minimum\n",
        "print(\"primary wavelength? (include units, ex. 280 nm)\")\n",
        "wavelength1 = input() # wavelength\n",
        "\n",
        "# set font sizes\n",
        "small_font = 14\n",
        "medium_font = 16\n",
        "\n",
        "plt.rc('font', size=small_font)          # default text sizes\n",
        "plt.rc('axes', titlesize=small_font)     # axes title\n",
        "plt.rc('axes', labelsize=medium_font)    # x and y labels\n",
        "plt.rc('xtick', labelsize=small_font)    # tick labels\n",
        "plt.rc('ytick', labelsize=small_font)    # tick labels\n",
        "plt.rc('legend', fontsize=small_font)    # legend\n",
        "\n",
        "# sets tick size\n",
        "plt.rcParams[\"xtick.major.size\"] = 10\n",
        "plt.rcParams[\"xtick.major.width\"] = 3\n",
        "plt.rcParams[\"xtick.minor.size\"] = 5\n",
        "plt.rcParams[\"ytick.major.size\"] = 10\n",
        "plt.rcParams[\"ytick.major.width\"] = 3\n",
        "plt.rcParams[\"ytick.minor.size\"] = 0\n",
        "\n",
        "rawexcel.plot(kind=\"line\", linewidth=2.5, x=\"ml\", y=\"mAU\", figsize=[12,8])\n",
        "\n",
        "# axis options\n",
        "plt.minorticks_on()\n",
        "plt.xlim(right = xrightlim)\n",
        "plt.ylim(bottom = ybottomlim)\n",
        "\n",
        "plt.xlabel(\"Volume (mL)\")\n",
        "plt.ylabel(\"Absorbance (mAU)\")\n",
        "\n",
        "# plots vertical lines for injection (green), fractions (red), and waste (gray) using axis coordinates\n",
        "try:\n",
        "  plt.axvline(x=injection, linewidth=3, ymin=0, ymax=0.25, label=\"Injection\", color=\"green\")\n",
        "except:\n",
        "  print(\"error: no injection!\")\n",
        "\n",
        "try:\n",
        "  for i in fractions:\n",
        "    plt.axvline(x=i, linewidth=2, linestyle=\"dotted\", ymin=0, ymax=0.25, color=\"red\")\n",
        "except:\n",
        "  print(\"error: no fractions!\")\n",
        "\n",
        "try:\n",
        "  for i in wastefractions:\n",
        "    plt.axvline(x=i, linewidth=2, linestyle=\"dotted\", ymin=0, ymax=0.25, color=\"gray\")\n",
        "except:\n",
        "  print(\"error: no waste fractions!\")\n",
        "\n",
        "# sets legend options\n",
        "legendlabel1 = plt.legend(loc=\"upper right\")\n",
        "legendlabel1.get_texts()[0].set_text(wavelength1)\n",
        "plt.rcParams[\"legend.frameon\"] = \"False\""
      ]
    },
    {
      "cell_type": "code",
      "source": [
        "from scipy.signal import find_peaks\n",
        "\n",
        "firstabsonly = np.ndarray.flatten(rawexcel.iloc[:,1:2].values)\n",
        "\n",
        "plt.figure(figsize=(10, 6), dpi=80)\n",
        "peak, _ = find_peaks(firstabsonly, height=5, prominence=1.5) # finds the peaks, sets minimum height cutoff, higher prominence = less sensitive\n",
        "plt.plot(firstabsonly) # plots absorbance only - currently assumes second column\n",
        "plt.plot(peak, firstabsonly[peak], \"*\") # plots detected peaks with orange *\n",
        "plt.plot(np.zeros_like(firstabsonly), \"--\", color=\"orange\") # plots zero line\n",
        "plt.show()\n",
        "\n",
        "print(\"Peak absorbance values:\")\n",
        "print(firstabsonly[peak])"
      ],
      "metadata": {
        "id": "qgzyvr8Upu12"
      },
      "execution_count": null,
      "outputs": []
    }
  ],
  "metadata": {
    "colab": {
      "name": "Unicorn-B-Gone_BETA.ipynb",
      "provenance": [],
      "collapsed_sections": [],
      "authorship_tag": "ABX9TyMQ+Z6yHWgTwX5+I6VloA0X",
      "include_colab_link": true
    },
    "kernelspec": {
      "display_name": "Python 3",
      "name": "python3"
    },
    "language_info": {
      "name": "python"
    }
  },
  "nbformat": 4,
  "nbformat_minor": 0
}